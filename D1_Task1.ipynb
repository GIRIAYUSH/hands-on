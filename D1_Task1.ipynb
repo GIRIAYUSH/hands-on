{
 "cells": [
  {
   "cell_type": "code",
   "execution_count": 23,
   "id": "225386d5",
   "metadata": {},
   "outputs": [
    {
     "name": "stdout",
     "output_type": "stream",
     "text": [
      "*** Introductory Examples for the NLTK Book ***\n",
      "Loading text1, ..., text9 and sent1, ..., sent9\n",
      "Type the name of the text or sentence to view it.\n",
      "Type: 'texts()' or 'sents()' to list the materials.\n",
      "text1: Moby Dick by Herman Melville 1851\n",
      "text2: Sense and Sensibility by Jane Austen 1811\n",
      "text3: The Book of Genesis\n",
      "text4: Inaugural Address Corpus\n",
      "text5: Chat Corpus\n",
      "text6: Monty Python and the Holy Grail\n",
      "text7: Wall Street Journal\n",
      "text8: Personals Corpus\n",
      "text9: The Man Who Was Thursday by G . K . Chesterton 1908\n"
     ]
    }
   ],
   "source": [
    "from nltk.book import *\n",
    "from nltk.corpus import brown, inaugural\n",
    "\n"
   ]
  },
  {
   "cell_type": "code",
   "execution_count": 25,
   "id": "13203f2c",
   "metadata": {},
   "outputs": [
    {
     "name": "stderr",
     "output_type": "stream",
     "text": [
      "[nltk_data] Downloading package brown to\n",
      "[nltk_data]     C:\\Users\\user1\\AppData\\Roaming\\nltk_data...\n",
      "[nltk_data]   Unzipping corpora\\brown.zip.\n"
     ]
    },
    {
     "data": {
      "text/plain": [
       "['adventure',\n",
       " 'belles_lettres',\n",
       " 'editorial',\n",
       " 'fiction',\n",
       " 'government',\n",
       " 'hobbies',\n",
       " 'humor',\n",
       " 'learned',\n",
       " 'lore',\n",
       " 'mystery',\n",
       " 'news',\n",
       " 'religion',\n",
       " 'reviews',\n",
       " 'romance',\n",
       " 'science_fiction']"
      ]
     },
     "execution_count": 25,
     "metadata": {},
     "output_type": "execute_result"
    }
   ],
   "source": [
    "nltk.download('brown')\n",
    "brown.categories()"
   ]
  },
  {
   "cell_type": "code",
   "execution_count": 26,
   "id": "16eeed89",
   "metadata": {},
   "outputs": [
    {
     "data": {
      "text/plain": [
       "['Dan', 'Morgan', 'told', 'himself', 'he', 'would', ...]"
      ]
     },
     "execution_count": 26,
     "metadata": {},
     "output_type": "execute_result"
    }
   ],
   "source": [
    "brown.words(categories=\"adventure\")"
   ]
  },
  {
   "cell_type": "code",
   "execution_count": 27,
   "id": "30f51708",
   "metadata": {},
   "outputs": [
    {
     "data": {
      "text/plain": [
       "['Fellow',\n",
       " '-',\n",
       " 'Countrymen',\n",
       " ':',\n",
       " 'At',\n",
       " 'this',\n",
       " 'second',\n",
       " 'appearing',\n",
       " 'to',\n",
       " 'take',\n",
       " 'the',\n",
       " 'oath',\n",
       " 'of',\n",
       " 'the',\n",
       " 'Presidential',\n",
       " 'office',\n",
       " 'there',\n",
       " 'is',\n",
       " 'less',\n",
       " 'occasion',\n",
       " 'for',\n",
       " 'an',\n",
       " 'extended',\n",
       " 'address',\n",
       " 'than']"
      ]
     },
     "execution_count": 27,
     "metadata": {},
     "output_type": "execute_result"
    }
   ],
   "source": [
    "lincoln = inaugural.words(fileids=\"1865-Lincoln.txt\")\n",
    "lincoln[:25]"
   ]
  },
  {
   "cell_type": "code",
   "execution_count": 28,
   "id": "ec22cd27",
   "metadata": {},
   "outputs": [
    {
     "data": {
      "text/plain": [
       "['My',\n",
       " 'fellow',\n",
       " 'citizens',\n",
       " ':',\n",
       " 'I',\n",
       " 'stand',\n",
       " 'here',\n",
       " 'today',\n",
       " 'humbled',\n",
       " 'by',\n",
       " 'the',\n",
       " 'task',\n",
       " 'before',\n",
       " 'us',\n",
       " ',',\n",
       " 'grateful',\n",
       " 'for',\n",
       " 'the',\n",
       " 'trust',\n",
       " 'you',\n",
       " 'have',\n",
       " 'bestowed',\n",
       " ',',\n",
       " 'mindful',\n",
       " 'of']"
      ]
     },
     "execution_count": 28,
     "metadata": {},
     "output_type": "execute_result"
    }
   ],
   "source": [
    "obama = inaugural.words(fileids=\"2009-Obama.txt\")\n",
    "obama[:25]"
   ]
  },
  {
   "cell_type": "code",
   "execution_count": 29,
   "id": "bbea53ae",
   "metadata": {},
   "outputs": [
    {
     "data": {
      "text/plain": [
       "['Chief',\n",
       " 'Justice',\n",
       " 'Roberts',\n",
       " ',',\n",
       " 'President',\n",
       " 'Carter',\n",
       " ',',\n",
       " 'President',\n",
       " 'Clinton',\n",
       " ',',\n",
       " 'President',\n",
       " 'Bush',\n",
       " ',',\n",
       " 'President',\n",
       " 'Obama',\n",
       " ',',\n",
       " 'fellow',\n",
       " 'Americans',\n",
       " ',',\n",
       " 'and',\n",
       " 'people',\n",
       " 'of',\n",
       " 'the',\n",
       " 'world',\n",
       " ':']"
      ]
     },
     "execution_count": 29,
     "metadata": {},
     "output_type": "execute_result"
    }
   ],
   "source": [
    "trump = inaugural.words(fileids=\"2017-Trump.txt\")\n",
    "trump[:25]"
   ]
  },
  {
   "cell_type": "code",
   "execution_count": 30,
   "id": "c40f51bd",
   "metadata": {},
   "outputs": [
    {
     "data": {
      "text/plain": [
       "FreqDist({'the': 2, 'Fellow': 1, '-': 1, 'Countrymen': 1, ':': 1, 'At': 1, 'this': 1, 'second': 1, 'appearing': 1, 'to': 1, ...})"
      ]
     },
     "execution_count": 30,
     "metadata": {},
     "output_type": "execute_result"
    }
   ],
   "source": [
    "txt = \" \".join(lincoln[:25])\n",
    "FreqDist(txt.split())"
   ]
  },
  {
   "cell_type": "code",
   "execution_count": 31,
   "id": "94c1bba6",
   "metadata": {},
   "outputs": [
    {
     "data": {
      "text/plain": [
       "[('the', 55),\n",
       " (',', 43),\n",
       " ('to', 26),\n",
       " ('and', 24),\n",
       " ('.', 23),\n",
       " ('of', 22),\n",
       " ('it', 12),\n",
       " ('war', 12),\n",
       " ('that', 11),\n",
       " ('for', 9),\n",
       " ('in', 9),\n",
       " ('which', 9),\n",
       " ('be', 8),\n",
       " ('all', 8),\n",
       " ('this', 7),\n",
       " ('a', 7),\n",
       " ('is', 6),\n",
       " ('by', 6),\n",
       " ('with', 6),\n",
       " ('God', 6),\n",
       " ('we', 6),\n",
       " ('was', 5),\n",
       " ('as', 5),\n",
       " ('but', 5),\n",
       " ('shall', 5)]"
      ]
     },
     "execution_count": 31,
     "metadata": {},
     "output_type": "execute_result"
    }
   ],
   "source": [
    "fdLincoln = FreqDist(lincoln)\n",
    "fdLincoln.most_common(25)"
   ]
  },
  {
   "cell_type": "code",
   "execution_count": 32,
   "id": "0df6885e",
   "metadata": {},
   "outputs": [
    {
     "data": {
      "image/png": "[encoded data removed]",
      "text/plain": [
       "<Figure size 640x480 with 1 Axes>"
      ]
     },
     "metadata": {},
     "output_type": "display_data"
    },
    {
     "data": {
      "text/plain": [
       "<AxesSubplot:xlabel='Samples', ylabel='Counts'>"
      ]
     },
     "execution_count": 32,
     "metadata": {},
     "output_type": "execute_result"
    }
   ],
   "source": [
    "fdLincoln.plot(25)"
   ]
  },
  {
   "cell_type": "code",
   "execution_count": 33,
   "id": "26df6538",
   "metadata": {},
   "outputs": [
    {
     "data": {
      "text/plain": [
       "[(',', 130),\n",
       " ('the', 126),\n",
       " ('.', 108),\n",
       " ('and', 105),\n",
       " ('of', 82),\n",
       " ('to', 66),\n",
       " ('our', 58),\n",
       " ('we', 50),\n",
       " ('that', 48),\n",
       " ('a', 47),\n",
       " ('is', 36),\n",
       " ('us', 23),\n",
       " ('in', 22),\n",
       " ('are', 22),\n",
       " (';', 22),\n",
       " ('--', 22),\n",
       " ('this', 20),\n",
       " ('will', 19),\n",
       " ('but', 17),\n",
       " ('have', 16),\n",
       " ('not', 16),\n",
       " ('for', 15),\n",
       " ('on', 15),\n",
       " ('it', 15),\n",
       " ('you', 14)]"
      ]
     },
     "execution_count": 33,
     "metadata": {},
     "output_type": "execute_result"
    }
   ],
   "source": [
    "fdObama = FreqDist(obama)\n",
    "fdObama.most_common(25)"
   ]
  },
  {
   "cell_type": "code",
   "execution_count": 34,
   "id": "8cd502af",
   "metadata": {},
   "outputs": [
    {
     "data": {
      "text/plain": [
       "[(',', 106),\n",
       " ('.', 89),\n",
       " ('and', 70),\n",
       " ('the', 65),\n",
       " ('of', 48),\n",
       " ('our', 47),\n",
       " ('will', 43),\n",
       " ('to', 37),\n",
       " ('We', 26),\n",
       " ('we', 24),\n",
       " ('America', 20),\n",
       " ('is', 20),\n",
       " ('a', 14),\n",
       " ('all', 14),\n",
       " ('are', 13),\n",
       " ('in', 13),\n",
       " ('for', 13),\n",
       " ('be', 13),\n",
       " ('you', 12),\n",
       " ('but', 11),\n",
       " (\"'\", 11),\n",
       " ('American', 11),\n",
       " ('people', 10),\n",
       " ('their', 10),\n",
       " ('not', 10)]"
      ]
     },
     "execution_count": 34,
     "metadata": {},
     "output_type": "execute_result"
    }
   ],
   "source": [
    "fdTrump = FreqDist(trump)\n",
    "fdTrump.most_common(25)"
   ]
  },
  {
   "cell_type": "code",
   "execution_count": null,
   "id": "58c5d2a3",
   "metadata": {},
   "outputs": [],
   "source": []
  }
 ],
 "metadata": {
  "kernelspec": {
   "display_name": "Python 3 (ipykernel)",
   "language": "python",
   "name": "python3"
  },
  "language_info": {
   "codemirror_mode": {
    "name": "ipython",
    "version": 3
   },
   "file_extension": ".py",
   "mimetype": "text/x-python",
   "name": "python",
   "nbconvert_exporter": "python",
   "pygments_lexer": "ipython3",
   "version": "3.9.13"
  }
 },
 "nbformat": 4,
 "nbformat_minor": 5
}
