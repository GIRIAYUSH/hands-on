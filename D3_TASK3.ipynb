{
 "cells": [
  {
   "cell_type": "code",
   "execution_count": 1,
   "id": "ca18aae2",
   "metadata": {},
   "outputs": [],
   "source": [
    "from urllib import request"
   ]
  },
  {
   "cell_type": "code",
   "execution_count": 2,
   "id": "38cd2399",
   "metadata": {},
   "outputs": [],
   "source": [
    "url = \"https://www.gutenberg.org/files/98/98-0.txt\""
   ]
  },
  {
   "cell_type": "code",
   "execution_count": 3,
   "id": "0d8345a4",
   "metadata": {},
   "outputs": [],
   "source": [
    "response = request.urlopen(url)"
   ]
  },
  {
   "cell_type": "code",
   "execution_count": 4,
   "id": "82240ef9",
   "metadata": {},
   "outputs": [
    {
     "data": {
      "text/plain": [
       "<http.client.HTTPResponse at 0x242c0de1a30>"
      ]
     },
     "execution_count": 4,
     "metadata": {},
     "output_type": "execute_result"
    }
   ],
   "source": [
    "response"
   ]
  },
  {
   "cell_type": "code",
   "execution_count": 5,
   "id": "8a8ea3ff",
   "metadata": {},
   "outputs": [],
   "source": [
    "raw = response.read().decode('utf8')\n"
   ]
  },
  {
   "cell_type": "code",
   "execution_count": 7,
   "id": "54f9366a",
   "metadata": {},
   "outputs": [
    {
     "name": "stderr",
     "output_type": "stream",
     "text": [
      "[nltk_data] Downloading package punkt to\n",
      "[nltk_data]     C:\\Users\\user1\\AppData\\Roaming\\nltk_data...\n",
      "[nltk_data]   Unzipping tokenizers\\punkt.zip.\n"
     ]
    }
   ],
   "source": [
    "import nltk\n",
    "nltk.download('punkt')\n",
    "from nltk.tokenize import word_tokenize\n",
    "tokens= word_tokenize(raw)"
   ]
  },
  {
   "cell_type": "code",
   "execution_count": 8,
   "id": "07042ee0",
   "metadata": {},
   "outputs": [
    {
     "name": "stdout",
     "output_type": "stream",
     "text": [
      "['\\ufeffThe', 'Project', 'Gutenberg', 'eBook', 'of', 'A', 'Tale', 'of', 'Two', 'Cities', ',', 'by', 'Charles', 'Dickens', 'This', 'eBook', 'is', 'for', 'the', 'use']\n"
     ]
    }
   ],
   "source": [
    "print(tokens[:20])"
   ]
  },
  {
   "cell_type": "code",
   "execution_count": 9,
   "id": "f0390c36",
   "metadata": {},
   "outputs": [
    {
     "name": "stdout",
     "output_type": "stream",
     "text": [
      "walk\n",
      "happi\n",
      "cacti\n",
      "happi\n"
     ]
    }
   ],
   "source": [
    "from nltk.stem import PorterStemmer\n",
    "porter = PorterStemmer()\n",
    "print(porter.stem('walking'))\n",
    "print(porter.stem('happiness'))\n",
    "print(porter.stem('cacti'))\n",
    "print(porter.stem('happiness'))"
   ]
  },
  {
   "cell_type": "code",
   "execution_count": 10,
   "id": "b0450efb",
   "metadata": {},
   "outputs": [
    {
     "name": "stdout",
     "output_type": "stream",
     "text": [
      "walk\n",
      "happy\n",
      "cact\n"
     ]
    }
   ],
   "source": [
    "from nltk.stem import LancasterStemmer\n",
    "porter = LancasterStemmer()\n",
    "print(porter.stem('walking'))\n",
    "print(porter.stem('happiness'))\n",
    "print(porter.stem('cacti'))"
   ]
  },
  {
   "cell_type": "code",
   "execution_count": 11,
   "id": "f5a7607e",
   "metadata": {},
   "outputs": [
    {
     "name": "stdout",
     "output_type": "stream",
     "text": [
      "walk\n",
      "runn\n",
      "cunn\n"
     ]
    }
   ],
   "source": [
    "from nltk.stem import RegexpStemmer\n",
    "porter = RegexpStemmer('ing')\n",
    "print(porter.stem('walking'))\n",
    "print(porter.stem('running'))\n",
    "print(porter.stem('cunning'))"
   ]
  },
  {
   "cell_type": "code",
   "execution_count": 12,
   "id": "df5e7e2c",
   "metadata": {},
   "outputs": [
    {
     "name": "stdout",
     "output_type": "stream",
     "text": [
      "detest\n",
      "avoir\n"
     ]
    }
   ],
   "source": [
    "from nltk.stem import SnowballStemmer\n",
    "porter = SnowballStemmer(language='french')\n",
    "print(porter.stem('detester'))\n",
    "print(porter.stem('avoir'))"
   ]
  },
  {
   "cell_type": "code",
   "execution_count": 13,
   "id": "12d01ebc",
   "metadata": {},
   "outputs": [
    {
     "name": "stdout",
     "output_type": "stream",
     "text": [
      "in\n",
      "england\n",
      ",\n",
      "there\n",
      "wa\n",
      "scarc\n",
      "an\n",
      "amount\n",
      "of\n",
      "order\n",
      "and\n",
      "protect\n",
      "to\n",
      "justifi\n",
      "much\n",
      "nation\n",
      "boast\n",
      ".\n",
      "dare\n",
      "burglari\n",
      "by\n",
      "arm\n",
      "men\n",
      ",\n",
      "and\n",
      "highway\n",
      "robberi\n",
      ",\n",
      "took\n",
      "place\n",
      "in\n",
      "the\n",
      "capit\n",
      "itself\n",
      "everi\n",
      "night\n",
      ";\n"
     ]
    }
   ],
   "source": [
    "porter = PorterStemmer()\n",
    "text = \"In England, there was scarcely an amount of order and protection to justify much national boasting. Daring burglaries by armed men, and highway robberies, took place in the capital itself every night;\"\n",
    "tok = word_tokenize(text)\n",
    "for word in tok:\n",
    "    print(porter.stem(word))"
   ]
  },
  {
   "cell_type": "code",
   "execution_count": 14,
   "id": "17cfdefd",
   "metadata": {},
   "outputs": [
    {
     "name": "stdout",
     "output_type": "stream",
     "text": [
      "in\n",
      "england\n",
      ",\n",
      "ther\n",
      "was\n",
      "scarc\n",
      "an\n",
      "amount\n",
      "of\n",
      "ord\n",
      "and\n",
      "protect\n",
      "to\n",
      "just\n",
      "much\n",
      "nat\n",
      "boast\n",
      ".\n",
      "dar\n",
      "burgl\n",
      "by\n",
      "arm\n",
      "men\n",
      ",\n",
      "and\n",
      "highway\n",
      "robbery\n",
      ",\n",
      "took\n",
      "plac\n",
      "in\n",
      "the\n",
      "capit\n",
      "itself\n",
      "every\n",
      "night\n",
      ";\n"
     ]
    }
   ],
   "source": [
    "porter = LancasterStemmer()\n",
    "text = \"In England, there was scarcely an amount of order and protection to justify much national boasting. Daring burglaries by armed men, and highway robberies, took place in the capital itself every night;\"\n",
    "tok = word_tokenize(text)\n",
    "for word in tok:\n",
    "    print(porter.stem(word))"
   ]
  },
  {
   "cell_type": "code",
   "execution_count": null,
   "id": "5563f17e",
   "metadata": {},
   "outputs": [],
   "source": []
  }
 ],
 "metadata": {
  "kernelspec": {
   "display_name": "Python 3 (ipykernel)",
   "language": "python",
   "name": "python3"
  },
  "language_info": {
   "codemirror_mode": {
    "name": "ipython",
    "version": 3
   },
   "file_extension": ".py",
   "mimetype": "text/x-python",
   "name": "python",
   "nbconvert_exporter": "python",
   "pygments_lexer": "ipython3",
   "version": "3.9.13"
  }
 },
 "nbformat": 4,
 "nbformat_minor": 5
}
