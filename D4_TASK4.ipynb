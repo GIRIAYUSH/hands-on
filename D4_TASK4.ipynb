{
 "cells": [
  {
   "cell_type": "code",
   "execution_count": 1,
   "id": "1e45c9e5",
   "metadata": {},
   "outputs": [],
   "source": [
    "from sklearn.feature_extraction.text import CountVectorizer, TfidfVectorizer\n",
    "from sklearn.metrics.pairwise import cosine_similarity"
   ]
  },
  {
   "cell_type": "code",
   "execution_count": 2,
   "id": "297576eb",
   "metadata": {},
   "outputs": [
    {
     "data": {
      "text/plain": [
       "CountVectorizer(binary=True)"
      ]
     },
     "execution_count": 2,
     "metadata": {},
     "output_type": "execute_result"
    }
   ],
   "source": [
    "vect = CountVectorizer(binary=True)\n",
    "corpus = [\n",
    "    \"I have a German Shepherd\",\n",
    "    \"German Shepherd is from Germany\",\n",
    "    \"Germans love gossiping\",\n",
    "]\n",
    "vect.fit(corpus)"
   ]
  },
  {
   "cell_type": "code",
   "execution_count": 3,
   "id": "6864b5d9",
   "metadata": {},
   "outputs": [
    {
     "name": "stdout",
     "output_type": "stream",
     "text": [
      "from:0\n",
      "german:1\n",
      "germans:2\n",
      "germany:3\n",
      "gossiping:4\n",
      "have:5\n",
      "is:6\n",
      "love:7\n",
      "shepherd:8\n"
     ]
    }
   ],
   "source": [
    "vocab = vect.vocabulary_\n",
    "for key in sorted(vocab.keys()):\n",
    "    print(\"{}:{}\".format(key, vocab[key]))"
   ]
  },
  {
   "cell_type": "code",
   "execution_count": 4,
   "id": "36afb79d",
   "metadata": {},
   "outputs": [
    {
     "name": "stdout",
     "output_type": "stream",
     "text": [
      "[[0 1 0 1 0 0 0 0 1]]\n"
     ]
    }
   ],
   "source": [
    "print(vect.transform([\"Germany has German Shepherd\"]).toarray())"
   ]
  },
  {
   "cell_type": "code",
   "execution_count": 5,
   "id": "c8dab19f",
   "metadata": {},
   "outputs": [
    {
     "name": "stdout",
     "output_type": "stream",
     "text": [
      "[[0.57735027]]\n"
     ]
    }
   ],
   "source": [
    "similarity = cosine_similarity(\n",
    "    vect.transform([\"Germany has German Shepherd\"]).toarray(),\n",
    "    vect.transform([\"Germany has Berlin as capital\"]).toarray(),\n",
    ")\n",
    "print(similarity)"
   ]
  },
  {
   "cell_type": "code",
   "execution_count": 6,
   "id": "c7567010",
   "metadata": {},
   "outputs": [],
   "source": [
    "vectorizer = TfidfVectorizer(binary=True)"
   ]
  },
  {
   "cell_type": "code",
   "execution_count": 7,
   "id": "08125dac",
   "metadata": {},
   "outputs": [
    {
     "data": {
      "text/plain": [
       "TfidfVectorizer(binary=True)"
      ]
     },
     "execution_count": 7,
     "metadata": {},
     "output_type": "execute_result"
    }
   ],
   "source": [
    "vectorizer"
   ]
  },
  {
   "cell_type": "code",
   "execution_count": 14,
   "id": "13a996ff",
   "metadata": {},
   "outputs": [],
   "source": [
    "e1 = (\n",
    "    \"Every summer, the pastoral call of their motherland, Kerala, beckoned my parents.\"\n",
    "    \" Their children would plead that they change direction at least for one year but\"\n",
    "    \" these entreaties were dismissed as flakiness. Summer months were set in stone.\"\n",
    "    \" And contrary to the breezy, game-for-anything attitude that the sun induced in\"\n",
    "    \" many folks, for my mother and father, it was a season for constancy.\"\n",
    ")\n",
    "e2 = (\n",
    "    \"J R.R. Tolkien was right to portray the Ents, hulking pieces of tall barks with\"\n",
    "    \" sad eyes and mossy facial hair who guarded forests, as perhaps the most stoic\"\n",
    "    \" figures in his Lord of the Rings trilogy. Their whole manner spoke to an\"\n",
    "    \" endurance that seemed constantly on the verge of dissipation. They had seen and\"\n",
    "    \" tolerated far too much in a world at war with itself. Yet they remained calm,\"\n",
    "    \" like a steady lighthouse in torrential downpour.\"\n",
    ")\n",
    "e3 = (\n",
    "    \"Once-in-a-lifetime is an overused expression in travel. Like everything else, the\"\n",
    "    \" phrase has succumbed to a culture of instant hype. When every mountain hike,\"\n",
    "    \" underwater dive or local meal is described with the glowing praise that should be\"\n",
    "    \" meant for only the rarest of occurrences, it is difficult to tell a wonderful\"\n",
    "    \" experience from a bucket list one. A bucket list just doesn’t translate with the\"\n",
    "    \" same impact it was originally intended for.\"\n",
    ")\n",
    "e4 = (\n",
    "    \"New and exciting has always received top billing in food—the latest fad, the\"\n",
    "    \" newest restaurant, the trendiest neighbourhood, the healthiest diet. Often, these\"\n",
    "    \" developments are accompanied by breathless pundit-like pronouncements: Lebanese\"\n",
    "    \" is the new Chinese; Chinese is new Italian (wait, where does leave that Italian\"\n",
    "    \" then?) A cuisine or dish has a moment, peaks and then becomes passé.\"\n",
    ")\n",
    "e5 = (\n",
    "    \"In this modern agnostic world, pop culture is the closest thing we have to a\"\n",
    "    \" shared religion. Matinee idols, artists and rock stars are our gods and\"\n",
    "    \" goddesses, feeding us an endless supply of enchanting lore and myths. For this\"\n",
    "    \" movement to thrive though, it needs fans; followers who have gone beyond aloof\"\n",
    "    \" observation. Pop culture requires that fans click below to subscribe, not let it\"\n",
    "    \" just play in the background.\"\n",
    ")\n",
    "e6 = (\n",
    "    \"Part of the allure of a remote place is that the closer we get to it, the more we\"\n",
    "    \" risk everything that made it precious. For years, Mount Everest inspired a sense\"\n",
    "    \" of forbidden majesty, which was surmounted only by a few courageous adventurers.\"\n",
    "    \" It helped that they were entertaining and we were content to immerse ourselves in\"\n",
    "    \" the stories they wove from these monumental expeditions.\"\n",
    ")\n",
    "e7 = (\n",
    "    \"The world’s greatest cities are brutal, unsentimental places, precisely the reason\"\n",
    "    \" why so many of us fall so irrevocably under their spell. In its worst hour, this\"\n",
    "    \" bond can curdle into bitter complaints of unrequited affection and everyday\"\n",
    "    \" torment. “The subway doesn’t work, trash is overflowing and it’s too crowded;\"\n",
    "    \" this is over.” Let me assure you that right now someone somewhere is uttering\"\n",
    "    \" these words about your dream metropolis, New York, Rome, Rio De Janeiro. Like an\"\n",
    "    \" unrepentant cad, the city laughs in their face, “Go on… live without me.”\"\n",
    "    \" Wresting long-term connections comes with the occasional pang of nostalgic\"\n",
    "    \" regret. Those who can’t escape their love of cities are destined to keep\"\n",
    "    \" replaying that first flush of romance, that moment when a city went from a\"\n",
    "    \" destination to home.\"\n",
    ")\n",
    "e8 = (\n",
    "    \"As soon as a long, gleaming dark green train carriage, emblazoned with ‘Eastern &\"\n",
    "    \" Oriental Express’ in engraved gold lettering slides into Hua Hin station, I feel\"\n",
    "    \" a tinge of self-consciousness. Neither I nor my co-passengers from India are\"\n",
    "    \" dressed for something this imperial. For the last hour, we have been milling\"\n",
    "    \" about Hua Hin, Thailand’s oldest railway station—a quirky but fading royal\"\n",
    "    \" artefact—in our baggy tees, jeans and dusty shoes, lugging backpacks and\"\n",
    "    \" satchels. Once I hop aboard the train though, the air is less intimidating. While\"\n",
    "    \" this is a majestic luxury locomotive boasting every accoutrement of refined\"\n",
    "    \" sophistication, I see open, friendly faces in casual wear and summer hats.\"\n",
    ")\n",
    "e9 = (\n",
    "    \"After a tiring snorkelling session in the clear waters of Koh Phangan, instructors\"\n",
    "    \" Captain Pumpui and Captain Poo are shepherding me and five others on a private\"\n",
    "    \" speedboat to nearby Bottle Beach for a picnic lunch of sandwiches, macarons and\"\n",
    "    \" fruit juices. I am about 10-12 kilometres from Belmond Napasai’s lush tropical\"\n",
    "    \" resort in Koh Samui, my home for the last day-and-a-half, and the sun is\"\n",
    "    \" blindingly bright overhead. This is ideal snorkelling weather; we have had a\"\n",
    "    \" field day gasping at eels and corals underwater. But the heat has stymied chatter\"\n",
    "    \" on our boat.\"\n",
    ")\n",
    "e10 = (\n",
    "    \"Leaning out from a bridge leading into Wat Rong Khun, I squint at a stucco moat of\"\n",
    "    \" outstretched hands and grisly skeletons. Two massive horns arch over the walkway,\"\n",
    "    \" while a few steps ahead, giant statues of Death and Rahu guard the entrance, like\"\n",
    "    \" burly bouncers poised to restrict my entry into heaven. “The bridge of rebirth,”\"\n",
    "    \" I overhear a foreign couple talking. A swampland of desire—enslaved arms—lie in\"\n",
    "    \" wait blocking a mortal’s road to nirvana. This was rebirth as an infernal\"\n",
    "    \" spectre, not Elton John’s PG-13 “Circle of Life.”\"\n",
    ")"
   ]
  },
  {
   "cell_type": "code",
   "execution_count": 15,
   "id": "084fb2e1",
   "metadata": {},
   "outputs": [
    {
     "data": {
      "text/plain": [
       "TfidfVectorizer(binary=True)"
      ]
     },
     "execution_count": 15,
     "metadata": {},
     "output_type": "execute_result"
    }
   ],
   "source": [
    "edit_corpus = [e1, e2,e3,e4,e5,e6,e7,e8,e9,e10]\n",
    "vectorizer.fit(edit_corpus)"
   ]
  },
  {
   "cell_type": "code",
   "execution_count": 11,
   "id": "63c64c3a",
   "metadata": {},
   "outputs": [
    {
     "name": "stdout",
     "output_type": "stream",
     "text": [
      "an:0\n",
      "and:1\n",
      "anything:2\n",
      "as:3\n",
      "at:4\n",
      "attitude:5\n",
      "barks:6\n",
      "beckoned:7\n",
      "breezy:8\n",
      "but:9\n",
      "call:10\n",
      "calm:11\n",
      "change:12\n",
      "children:13\n",
      "constancy:14\n",
      "constantly:15\n",
      "contrary:16\n",
      "direction:17\n",
      "dismissed:18\n",
      "dissipation:19\n",
      "downpour:20\n",
      "endurance:21\n",
      "entreaties:22\n",
      "ents:23\n",
      "every:24\n",
      "eyes:25\n",
      "facial:26\n",
      "far:27\n",
      "father:28\n",
      "figures:29\n",
      "flakiness:30\n",
      "folks:31\n",
      "for:32\n",
      "forests:33\n",
      "game:34\n",
      "guarded:35\n",
      "had:36\n",
      "hair:37\n",
      "his:38\n",
      "hulking:39\n",
      "in:40\n",
      "induced:41\n",
      "it:42\n",
      "itself:43\n",
      "kerala:44\n",
      "least:45\n",
      "lighthouse:46\n",
      "like:47\n",
      "lord:48\n",
      "manner:49\n",
      "many:50\n",
      "months:51\n",
      "mossy:52\n",
      "most:53\n",
      "mother:54\n",
      "motherland:55\n",
      "much:56\n",
      "my:57\n",
      "of:58\n",
      "on:59\n",
      "one:60\n",
      "parents:61\n",
      "pastoral:62\n",
      "perhaps:63\n",
      "pieces:64\n",
      "plead:65\n",
      "portray:66\n",
      "remained:67\n",
      "right:68\n",
      "rings:69\n",
      "sad:70\n",
      "season:71\n",
      "seemed:72\n",
      "seen:73\n",
      "set:74\n",
      "spoke:75\n",
      "steady:76\n",
      "stoic:77\n",
      "stone:78\n",
      "summer:79\n",
      "sun:80\n",
      "tall:81\n",
      "that:82\n",
      "the:83\n",
      "their:84\n",
      "these:85\n",
      "they:86\n",
      "to:87\n",
      "tolerated:88\n",
      "tolkien:89\n",
      "too:90\n",
      "torrential:91\n",
      "trilogy:92\n",
      "verge:93\n",
      "war:94\n",
      "was:95\n",
      "were:96\n",
      "who:97\n",
      "whole:98\n",
      "with:99\n",
      "world:100\n",
      "would:101\n",
      "year:102\n",
      "yet:103\n"
     ]
    }
   ],
   "source": [
    "vocabulary = vectorizer.vocabulary_\n",
    "for key in sorted(vocabulary.keys()):\n",
    "    print(\"{}:{}\".format(key, vocabulary[key]))"
   ]
  },
  {
   "cell_type": "code",
   "execution_count": 16,
   "id": "8a3e8d42",
   "metadata": {},
   "outputs": [],
   "source": [
    "new1 = (\n",
    "    \"In a bid to ease paperwork for millions of tourists, the EU has proposed to make\"\n",
    "    \" the Schengen visa process an online application system in the next few years. The\"\n",
    "    \" Schengen visa allows travellers to visit and travel across 26 EU member nations\"\n",
    "    \" for up to 90 days. Right now, tourists submit their visa application to a\"\n",
    "    \" country's local consulate and collect their passports in person once the visa is\"\n",
    "    \" issued—a time-consuming process which became complicated during the last two\"\n",
    "    \" years of the pandemic. The new proposal envisions a single digital visa\"\n",
    "    \" application platform for all EU countries. Instead of a physical sticker, the\"\n",
    "    \" visa is expected to be a cryptographically signed 2D bar code.\"\n",
    ")\n",
    "new2 = (\n",
    "    \"Travellers can now fly directly between Pune and Singapore starting December 2,\"\n",
    "    \" courtesy Vistara which will kick off three to four flights every week.\"\n",
    "    \" International connections from Pune are rare (right now, Dubai is the sole one);\"\n",
    "    \" visitors normally rely on Mumbai airport for the same. However, authorities are\"\n",
    "    \" now planning to connect the city to two more Southeast Asian countries once the\"\n",
    "    \" Singapore route is up and running.\"\n",
    ")"
   ]
  },
  {
   "cell_type": "code",
   "execution_count": 17,
   "id": "2414b054",
   "metadata": {},
   "outputs": [
    {
     "name": "stdout",
     "output_type": "stream",
     "text": [
      "[[0.07118881]]\n",
      "[[0.09253847]]\n",
      "[[0.236114]]\n",
      "[[0.08621068]]\n",
      "[[0.0683277]]\n",
      "[[0.18032464]]\n",
      "[[0.12731542]]\n",
      "[[0.07996824]]\n",
      "[[0.09001059]]\n",
      "[[0.09893809]]\n"
     ]
    }
   ],
   "source": [
    "for i in range(10):\n",
    "    e = edit_corpus[i]\n",
    "    print(\n",
    "        cosine_similarity(\n",
    "            vectorizer.transform([e]).toarray(), vectorizer.transform([new1]).toarray()\n",
    "        )\n",
    "    )"
   ]
  },
  {
   "cell_type": "code",
   "execution_count": null,
   "id": "3ad62309",
   "metadata": {},
   "outputs": [],
   "source": []
  }
 ],
 "metadata": {
  "kernelspec": {
   "display_name": "Python 3 (ipykernel)",
   "language": "python",
   "name": "python3"
  },
  "language_info": {
   "codemirror_mode": {
    "name": "ipython",
    "version": 3
   },
   "file_extension": ".py",
   "mimetype": "text/x-python",
   "name": "python",
   "nbconvert_exporter": "python",
   "pygments_lexer": "ipython3",
   "version": "3.9.13"
  }
 },
 "nbformat": 4,
 "nbformat_minor": 5
}
